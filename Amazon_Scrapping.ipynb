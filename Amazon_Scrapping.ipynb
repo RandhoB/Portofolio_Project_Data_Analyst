{
 "cells": [
  {
   "cell_type": "code",
   "execution_count": 8,
   "metadata": {},
   "outputs": [],
   "source": [
    "#import library\n",
    "from bs4 import BeautifulSoup\n",
    "import requests\n",
    "import time\n",
    "import datetime\n",
    "\n",
    "import smtplib"
   ]
  },
  {
   "cell_type": "code",
   "execution_count": 51,
   "metadata": {},
   "outputs": [
    {
     "name": "stdout",
     "output_type": "stream",
     "text": [
      "\n",
      "            YONEX 2023 Vcore Ace Pre Strung Tennis Racquet, Scarlet\n",
      "           \n",
      "\n",
      "                    $109.00\n",
      "                   \n"
     ]
    }
   ],
   "source": [
    "# connect to website\n",
    "URL = 'https://www.amazon.com/YONEX-Strung-Tennis-Racquet-Scarlet/dp/B0C15GWHFW/ref=sr_1_4_sspa?crid=1GB7FRLEX3KPP&keywords=tennis&qid=1683531482&sprefix=tenn%2Caps%2C547&sr=8-4-spons&smid=AJPAM6HXYXK3Y&spLa=ZW5jcnlwdGVkUXVhbGlmaWVyPUExTkRLVUM4V1RXNzA3JmVuY3J5cHRlZElkPUEwODE0ODY4MUpWM1JQR1BZVU43WSZlbmNyeXB0ZWRBZElkPUEwMjY2ODg3MkdKMDBMS0ZVMDRUQiZ3aWRnZXROYW1lPXNwX2F0ZiZhY3Rpb249Y2xpY2tSZWRpcmVjdCZkb05vdExvZ0NsaWNrPXRydWU&th=1&psc=1'\n",
    "\n",
    "##cari headers httpbin.org/get\n",
    "headers = {\"User-Agent\": \"Mozilla/5.0 (Windows NT 10.0; Win64; x64; rv:109.0) Gecko/20100101 Firefox/112.0\", \"Accept-Encoding\":\t\"gzip, deflate\", \"Accept\" : \"text/html,application/xhtml+xml,application/xml;q=0.9,image/avif,image/webp,*/*;q=0.8\", \"DNT\":\"1\", \"Connection\":\"close\", \"Upgrade-Insecure_Requests\":\"1\"}\n",
    "\n",
    "page = requests.get(URL, headers=headers)\n",
    "\n",
    "soup1 = BeautifulSoup(page.content, \"html.parser\")\n",
    "\n",
    "soup2 = BeautifulSoup(soup1.prettify(), \"html.parser\")\n",
    "\n",
    "title = soup2.find(id='productTitle').get_text()\n",
    "\n",
    "price = soup2.find(id='mbc-price-1').get_text()\n",
    "\n",
    "# print(soup2)\n",
    "print(title)\n",
    "print(price)"
   ]
  },
  {
   "cell_type": "code",
   "execution_count": 55,
   "metadata": {},
   "outputs": [
    {
     "name": "stdout",
     "output_type": "stream",
     "text": [
      "YONEX 2023 Vcore Ace Pre Strung Tennis Racquet\n",
      "$109.00\n"
     ]
    },
    {
     "data": {
      "text/plain": [
       "str"
      ]
     },
     "execution_count": 55,
     "metadata": {},
     "output_type": "execute_result"
    }
   ],
   "source": [
    "# price = price.strip()[1:]\n",
    "price = price.strip()\n",
    "# title = title.strip()\n",
    "title = title.split(', ')[0]\n",
    "titleBaru = title.strip()\n",
    "\n",
    "print(titleBaru)\n",
    "print(price)\n",
    "\n",
    "type(titleBaru)\n",
    "type(price)"
   ]
  },
  {
   "cell_type": "code",
   "execution_count": 62,
   "metadata": {},
   "outputs": [
    {
     "name": "stdout",
     "output_type": "stream",
     "text": [
      "2023-05-09\n"
     ]
    }
   ],
   "source": [
    "import datetime\n",
    "\n",
    "today = datetime.date.today()\n",
    "\n",
    "print(today)"
   ]
  },
  {
   "cell_type": "code",
   "execution_count": 63,
   "metadata": {},
   "outputs": [],
   "source": [
    "import csv\n",
    "\n",
    "header = ['Title','Price','Date']\n",
    "data = [titleBaru, price, today]\n",
    "\n",
    "# type(data)\n",
    "with open('Amazon_Web_Scrapping.csv', 'w', newline='', encoding='UTF8') as f:\n",
    "    writer = csv.writer(f)\n",
    "    writer.writerow(header)\n",
    "    writer.writerow(data)"
   ]
  },
  {
   "cell_type": "code",
   "execution_count": 70,
   "metadata": {},
   "outputs": [
    {
     "name": "stdout",
     "output_type": "stream",
     "text": [
      "                                            Title    Price        Date\n",
      "0  YONEX 2023 Vcore Ace Pre Strung Tennis Racquet  $109.00  2023-05-09\n",
      "1  YONEX 2023 Vcore Ace Pre Strung Tennis Racquet  $109.00  2023-05-09\n",
      "2  YONEX 2023 Vcore Ace Pre Strung Tennis Racquet  $109.00  2023-05-09\n",
      "3  YONEX 2023 Vcore Ace Pre Strung Tennis Racquet  $109.00  2023-05-09\n",
      "4  YONEX 2023 Vcore Ace Pre Strung Tennis Racquet  $109.00  2023-05-09\n"
     ]
    }
   ],
   "source": [
    "import pandas as pd\n",
    "\n",
    "df = pd.read_csv(r'D:\\Data Analayst Data\\Portofolio Data Analyst Python\\Amazon_Web_Scrapping.csv')\n",
    "\n",
    "print(df)"
   ]
  },
  {
   "cell_type": "code",
   "execution_count": 69,
   "metadata": {},
   "outputs": [],
   "source": [
    "# now we are appending data to the csv\n",
    "\n",
    "with open('Amazon_Web_Scrapping.csv', 'a+', newline='', encoding='UTF8') as f:\n",
    "    writer = csv.writer(f)\n",
    "    writer.writerow(data)"
   ]
  },
  {
   "cell_type": "code",
   "execution_count": 9,
   "metadata": {},
   "outputs": [],
   "source": [
    "#Combine all of the above code into one function\n",
    "def check_price():\n",
    "    URL = 'https://www.amazon.com/YONEX-Strung-Tennis-Racquet-Scarlet/dp/B0C15GWHFW/ref=sr_1_4_sspa?crid=1GB7FRLEX3KPP&keywords=tennis&qid=1683531482&sprefix=tenn%2Caps%2C547&sr=8-4-spons&smid=AJPAM6HXYXK3Y&spLa=ZW5jcnlwdGVkUXVhbGlmaWVyPUExTkRLVUM4V1RXNzA3JmVuY3J5cHRlZElkPUEwODE0ODY4MUpWM1JQR1BZVU43WSZlbmNyeXB0ZWRBZElkPUEwMjY2ODg3MkdKMDBMS0ZVMDRUQiZ3aWRnZXROYW1lPXNwX2F0ZiZhY3Rpb249Y2xpY2tSZWRpcmVjdCZkb05vdExvZ0NsaWNrPXRydWU&th=1&psc=1'\n",
    "\n",
    "    headers = {\"User-Agent\": \"Mozilla/5.0 (Windows NT 10.0; Win64; x64; rv:109.0) Gecko/20100101 Firefox/112.0\", \"Accept-Encoding\":\t\"gzip, deflate\", \"Accept\" : \"text/html,application/xhtml+xml,application/xml;q=0.9,image/avif,image/webp,*/*;q=0.8\", \"DNT\":\"1\", \"Connection\":\"close\", \"Upgrade-Insecure_Requests\":\"1\"}\n",
    "\n",
    "    page = requests.get(URL, headers=headers)\n",
    "\n",
    "    soup1 = BeautifulSoup(page.content, \"html.parser\")\n",
    "\n",
    "    soup2 = BeautifulSoup(soup1.prettify(), \"html.parser\")\n",
    "\n",
    "    title = soup2.find(id='productTitle').get_text()\n",
    "\n",
    "    price = soup2.find(id='mbc-price-1').get_text()\n",
    "\n",
    "    price = price.strip()\n",
    "    title = title.split(', ')[0]\n",
    "    titleBaru = title.strip()\n",
    "\n",
    "    import datetime\n",
    "\n",
    "    today = datetime.date.today()\n",
    "\n",
    "    print(today)\n",
    "\n",
    "    import csv\n",
    "\n",
    "    header = ['Title','Price','Date']\n",
    "    data = [titleBaru, price, today]\n",
    "\n",
    "    with open('Amazon_Web_Scrapping.csv', 'a+', newline='', encoding='UTF8') as f:\n",
    "        writer = csv.writer(f)\n",
    "        writer.writerow(data)\n",
    "\n",
    "    if(price < 14):\n",
    "        send_mail()"
   ]
  },
  {
   "cell_type": "code",
   "execution_count": null,
   "metadata": {},
   "outputs": [],
   "source": [
    "# Runs check_price after a set time and inputs data into your CSV\n",
    "while(True):\n",
    "    check_price()\n",
    "    # time.sleep(86400) ##1 hari\n",
    "    time.sleep(5)"
   ]
  },
  {
   "cell_type": "code",
   "execution_count": 11,
   "metadata": {},
   "outputs": [
    {
     "name": "stdout",
     "output_type": "stream",
     "text": [
      "                                            Title    Price        Date\n",
      "0  YONEX 2023 Vcore Ace Pre Strung Tennis Racquet  $109.00  2023-05-09\n",
      "1  YONEX 2023 Vcore Ace Pre Strung Tennis Racquet  $109.00  2023-05-09\n",
      "2  YONEX 2023 Vcore Ace Pre Strung Tennis Racquet  $109.00  2023-05-09\n",
      "3  YONEX 2023 Vcore Ace Pre Strung Tennis Racquet  $109.00  2023-05-09\n",
      "4  YONEX 2023 Vcore Ace Pre Strung Tennis Racquet  $109.00  2023-05-09\n",
      "5  YONEX 2023 Vcore Ace Pre Strung Tennis Racquet  $109.00  2023-05-10\n",
      "6  YONEX 2023 Vcore Ace Pre Strung Tennis Racquet  $109.00  2023-05-10\n",
      "7  YONEX 2023 Vcore Ace Pre Strung Tennis Racquet  $109.00  2023-05-10\n",
      "8  YONEX 2023 Vcore Ace Pre Strung Tennis Racquet  $109.00  2023-05-10\n"
     ]
    }
   ],
   "source": [
    "import pandas as pd\n",
    "\n",
    "df = pd.read_csv(r'D:\\Data Analayst Data\\Portofolio Data Analyst Python\\Amazon_Web_Scrapping.csv')\n",
    "\n",
    "print(df)"
   ]
  },
  {
   "cell_type": "code",
   "execution_count": 12,
   "metadata": {},
   "outputs": [],
   "source": [
    "# If uou want to try sending yourself an email (just for fun) when a price hits below a certain level you can try it\n",
    "# out with this script\n",
    "\n",
    "def send_mail():\n",
    "    server = smtplib.SMTP_SSL('smtp.gmail.com',465)\n",
    "    server.ehlo()\n",
    "    #server.starttls()\n",
    "    server.ehlo()\n",
    "    server.login('randho.bagas12@gmail.com','xxxxxxxxxxxxxx')\n",
    "    \n",
    "    subject = \"The Shirt you want is below $15! Now is your chance to buy!\"\n",
    "    body = \"Alex, This is the moment we have been waiting for. Now is your chance to pick up the shirt of your dreams. Don't mess it up! Link here: https://www.amazon.com/Funny-Data-Systems-Business-Analyst/dp/B07FNW9FGJ/ref=sr_1_3?dchild=1&keywords=data+analyst+tshirt&qid=1626655184&sr=8-3\"\n",
    "   \n",
    "    msg = f\"Subject: {subject}\\n\\n{body}\"\n",
    "    \n",
    "    server.sendmail(\n",
    "        'randho.bagas12@gmail.com',\n",
    "        msg\n",
    "     \n",
    "    )"
   ]
  }
 ],
 "metadata": {
  "kernelspec": {
   "display_name": "Python 3",
   "language": "python",
   "name": "python3"
  },
  "language_info": {
   "codemirror_mode": {
    "name": "ipython",
    "version": 3
   },
   "file_extension": ".py",
   "mimetype": "text/x-python",
   "name": "python",
   "nbconvert_exporter": "python",
   "pygments_lexer": "ipython3",
   "version": "3.11.2"
  },
  "orig_nbformat": 4
 },
 "nbformat": 4,
 "nbformat_minor": 2
}
